{
 "cells": [
  {
   "cell_type": "markdown",
   "metadata": {},
   "source": [
    "## Introduction"
   ]
  },
  {
   "cell_type": "markdown",
   "metadata": {},
   "source": [
    "**Project description**: lorem ipsum: \n",
    "\n",
    "High level steps (table of content, internal links) goes here: \n",
    "\n",
    "On [this link (Kaggle)](https://www.kaggle.com/c/titanic/data) you can find the original dataset and its description.\n",
    "\n",
    "*Project owner*: ***Gustaf Olofsson***"
   ]
  },
  {
   "cell_type": "markdown",
   "metadata": {},
   "source": [
    "## Data dictionary\n",
    "**PassengerId**: type should be integers  \n",
    "**Survived**: Survived or Not  \n",
    "**Pclass**: Class of Travel  \n",
    "**Name**: Name of Passenger  \n",
    "**Sex**: Gender  \n",
    "**Age**: Age of Passengers  \n",
    "**SibSp**: Number of Sibling/Spouse aboard  \n",
    "**Parch**: Number of Parent/Child aboard  \n",
    "**Ticket**:   \n",
    "**Fare**  \n",
    "**Cabin**  \n",
    "**Embarked**: The port in which a passenger has embarked. C - Cherbourg, S - Southampton, Q = Queenstown  "
   ]
  },
  {
   "cell_type": "markdown",
   "metadata": {},
   "source": [
    "## Load Data from CSVs"
   ]
  },
  {
   "cell_type": "code",
   "execution_count": 15,
   "metadata": {},
   "outputs": [
    {
     "name": "stdout",
     "output_type": "stream",
     "text": [
      "   PassengerId  Survived  Pclass  \\\n",
      "0            1         0       3   \n",
      "1            2         1       1   \n",
      "2            3         1       3   \n",
      "3            4         1       1   \n",
      "4            5         0       3   \n",
      "\n",
      "                                                Name     Sex   Age  SibSp  \\\n",
      "0                            Braund, Mr. Owen Harris    male  22.0      1   \n",
      "1  Cumings, Mrs. John Bradley (Florence Briggs Th...  female  38.0      1   \n",
      "2                             Heikkinen, Miss. Laina  female  26.0      0   \n",
      "3       Futrelle, Mrs. Jacques Heath (Lily May Peel)  female  35.0      1   \n",
      "4                           Allen, Mr. William Henry    male  35.0      0   \n",
      "\n",
      "   Parch            Ticket     Fare Cabin Embarked  \n",
      "0      0         A/5 21171   7.2500   NaN        S  \n",
      "1      0          PC 17599  71.2833   C85        C  \n",
      "2      0  STON/O2. 3101282   7.9250   NaN        S  \n",
      "3      0            113803  53.1000  C123        S  \n",
      "4      0            373450   8.0500   NaN        S  \n"
     ]
    }
   ],
   "source": [
    "import pandas as pd\n",
    "import numpy as np\n",
    "import os\n",
    "\n",
    "dir_path = os.path.dirname(os.path.realpath('__file__'))\n",
    "raw_data = pd.read_csv(dir_path+\"\\\\titanic_data.csv\")\n",
    "\n",
    "#test that data loaded correctly\n",
    "print(raw_data.head())"
   ]
  },
  {
   "cell_type": "markdown",
   "metadata": {},
   "source": [
    "## SECTION TITLE"
   ]
  },
  {
   "cell_type": "markdown",
   "metadata": {},
   "source": [
    "Initially I want to explore whether the following factors differ between the survivors and non-survivors: \n",
    "* Ticket class  \n",
    "* Gender\n",
    "* Age\n",
    "* Port in which passenger embarked from"
   ]
  },
  {
   "cell_type": "code",
   "execution_count": 17,
   "metadata": {},
   "outputs": [
    {
     "name": "stdout",
     "output_type": "stream",
     "text": [
      "   PassengerId  Survived  Pclass  \\\n",
      "1            2         1       1   \n",
      "2            3         1       3   \n",
      "3            4         1       1   \n",
      "\n",
      "                                                Name     Sex   Age  SibSp  \\\n",
      "1  Cumings, Mrs. John Bradley (Florence Briggs Th...  female  38.0      1   \n",
      "2                             Heikkinen, Miss. Laina  female  26.0      0   \n",
      "3       Futrelle, Mrs. Jacques Heath (Lily May Peel)  female  35.0      1   \n",
      "\n",
      "   Parch            Ticket     Fare Cabin Embarked  \n",
      "1      0          PC 17599  71.2833   C85        C  \n",
      "2      0  STON/O2. 3101282   7.9250   NaN        S  \n",
      "3      0            113803  53.1000  C123        S  \n",
      "   PassengerId  Survived  Pclass                      Name   Sex   Age  SibSp  \\\n",
      "0            1         0       3   Braund, Mr. Owen Harris  male  22.0      1   \n",
      "4            5         0       3  Allen, Mr. William Henry  male  35.0      0   \n",
      "5            6         0       3          Moran, Mr. James  male   NaN      0   \n",
      "\n",
      "   Parch     Ticket    Fare Cabin Embarked  \n",
      "0      0  A/5 21171  7.2500   NaN        S  \n",
      "4      0     373450  8.0500   NaN        S  \n",
      "5      0     330877  8.4583   NaN        Q  \n"
     ]
    }
   ],
   "source": [
    "#Divide dataset into survivors and non-survivors\n",
    "survived = raw_data[raw_data.Survived==1]\n",
    "not_survived = raw_data[raw_data.Survived==0]\n",
    "\n",
    "print(survived.head(3))\n",
    "print(not_survived.head(3))"
   ]
  },
  {
   "cell_type": "code",
   "execution_count": null,
   "metadata": {},
   "outputs": [],
   "source": [
    "def describe_data(df, attribute):\n",
    "    print(\"for the {}-dataframe, looking at {}\".format(df, attribute))\n",
    "    \n",
    "    return 0"
   ]
  },
  {
   "cell_type": "markdown",
   "metadata": {},
   "source": [
    "## SECTION TITLE"
   ]
  },
  {
   "cell_type": "markdown",
   "metadata": {},
   "source": [
    "## SECTION TITLE"
   ]
  },
  {
   "cell_type": "markdown",
   "metadata": {},
   "source": [
    "## SECTION TITLE"
   ]
  },
  {
   "cell_type": "markdown",
   "metadata": {},
   "source": [
    "## SECTION TITLE"
   ]
  }
 ],
 "metadata": {
  "anaconda-cloud": {},
  "kernelspec": {
   "display_name": "Python 3",
   "language": "python",
   "name": "python3"
  },
  "language_info": {
   "codemirror_mode": {
    "name": "ipython",
    "version": 3
   },
   "file_extension": ".py",
   "mimetype": "text/x-python",
   "name": "python",
   "nbconvert_exporter": "python",
   "pygments_lexer": "ipython3",
   "version": "3.7.3"
  }
 },
 "nbformat": 4,
 "nbformat_minor": 1
}
